{
 "cells": [
  {
   "cell_type": "code",
   "execution_count": null,
   "metadata": {},
   "outputs": [],
   "source": [
    "import asyncio\n",
    "import hashlib\n",
    "import struct"
   ]
  },
  {
   "cell_type": "code",
   "execution_count": null,
   "metadata": {},
   "outputs": [],
   "source": [
    "async def connect():\n",
    "    reader, writer = await asyncio.open_connection('0.0.0.0', 2137)\n",
    "    data = await reader.readexactly(4)\n",
    "    rest = await reader.readexactly(int.from_bytes(data, byteorder='big') - 4)\n",
    "    print(f\"Read: {data + rest}\")\n",
    "    data = data + rest\n",
    "\n",
    "    m = hashlib.sha256()\n",
    "    m.update(data[(6 + data[5]):])\n",
    "    m.update(b\"secret2137\")\n",
    "    sha = m.digest()\n",
    "\n",
    "    body = struct.pack('B', 2) + struct.pack('B', 5) + b\"kitek\" + sha\n",
    "    print(len(body) + 4)\n",
    "    body = struct.pack('!I', len(body) + 4) + body\n",
    "    for by in sha: \n",
    "        print(by)\n",
    "    \n",
    "\n",
    "    writer.write(body)\n",
    "    await writer.drain()\n",
    "\n",
    "    writer.write(b\"HELLO WORLD\")\n",
    "    await writer.drain()\n",
    "\n",
    "\n",
    "await connect()"
   ]
  }
 ],
 "metadata": {
  "kernelspec": {
   "display_name": "http_serv",
   "language": "python",
   "name": "python3"
  },
  "language_info": {
   "codemirror_mode": {
    "name": "ipython",
    "version": 3
   },
   "file_extension": ".py",
   "mimetype": "text/x-python",
   "name": "python",
   "nbconvert_exporter": "python",
   "pygments_lexer": "ipython3",
   "version": "3.12.8"
  }
 },
 "nbformat": 4,
 "nbformat_minor": 2
}
